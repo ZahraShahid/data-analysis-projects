{
  "nbformat": 4,
  "nbformat_minor": 0,
  "metadata": {
    "colab": {
      "name": "Untitled2.ipynb",
      "provenance": [],
      "authorship_tag": "ABX9TyNKPcYIFtKNDbyjj1UCP12J",
      "include_colab_link": true
    },
    "kernelspec": {
      "name": "python3",
      "display_name": "Python 3"
    },
    "language_info": {
      "name": "python"
    }
  },
  "cells": [
    {
      "cell_type": "markdown",
      "metadata": {
        "id": "view-in-github",
        "colab_type": "text"
      },
      "source": [
        "<a href=\"https://colab.research.google.com/github/ZahraShahid/data-analysis-projects/blob/main/ISS-PassTimeAPI.ipynb\" target=\"_parent\"><img src=\"https://colab.research.google.com/assets/colab-badge.svg\" alt=\"Open In Colab\"/></a>"
      ]
    },
    {
      "cell_type": "code",
      "execution_count": 1,
      "metadata": {
        "colab": {
          "base_uri": "https://localhost:8080/"
        },
        "id": "cKVtMU8bJp_n",
        "outputId": "545d01c6-30d8-4a72-ca5b-5ae389fc5c60"
      },
      "outputs": [
        {
          "output_type": "stream",
          "name": "stdout",
          "text": [
            "Requirement already satisfied: requests in /usr/local/lib/python3.7/dist-packages (2.23.0)\n",
            "Requirement already satisfied: idna<3,>=2.5 in /usr/local/lib/python3.7/dist-packages (from requests) (2.10)\n",
            "Requirement already satisfied: urllib3!=1.25.0,!=1.25.1,<1.26,>=1.21.1 in /usr/local/lib/python3.7/dist-packages (from requests) (1.24.3)\n",
            "Requirement already satisfied: chardet<4,>=3.0.2 in /usr/local/lib/python3.7/dist-packages (from requests) (3.0.4)\n",
            "Requirement already satisfied: certifi>=2017.4.17 in /usr/local/lib/python3.7/dist-packages (from requests) (2021.10.8)\n"
          ]
        }
      ],
      "source": [
        "pip install requests"
      ]
    },
    {
      "cell_type": "code",
      "source": [
        "from sys import float_repr_style\n",
        "import requests\n",
        "import json\n",
        "from datetime import datetime\n",
        "\n",
        "parameters={\n",
        "    \"lat\":37.78,\n",
        "    \"lon\":-122.41\n",
        "}\n",
        "\n",
        "try:\n",
        "    response = requests.get(\"http://api.open-notify.org/iss-pass.json\",params=parameters)\n",
        "    status_code = response.status_code\n",
        "    # print(status_code)\n",
        "\n",
        "    content=response.content\n",
        "    # print(content)\n",
        "\n",
        "    # print(response.json())\n",
        "\n",
        "except requests.exceptions.RequestException as e:\n",
        "      raise SystemExit(e)\n",
        "\n",
        "\n",
        "def jprint(obj):\n",
        "  text=json.dumps(obj,indent=4)\n",
        "  print(text)\n",
        "\n",
        "# jprint(response.json())\n",
        "\n",
        "res = response.json()[\"response\"]\n",
        "# mes = response.json()[\"message\"]\n",
        "# print(res[0]['duration'])\n",
        "# print(mes)\n",
        "\n",
        "#To get headers info\n",
        "content_type = response.headers[\"content-type\"]\n",
        "# print(content_type)\n",
        "\n",
        "\n",
        "\n",
        "times=[]\n",
        "for d in res:\n",
        "  time = d[\"risetime\"]\n",
        "  ft = datetime.fromtimestamp(time)\n",
        "  times.append(ft)\n",
        "\n",
        "print(times)\n",
        "\n",
        "# formatted_times=[]\n",
        "# for d in times:\n",
        "#   ft = datetime.fromtimestamp(d)\n",
        "#   formatted_times.append(ft)\n",
        "\n",
        "# print(formatted_times)\n",
        "\n",
        "\n",
        "\n"
      ],
      "metadata": {
        "colab": {
          "base_uri": "https://localhost:8080/"
        },
        "id": "H-mh-5ilcR1o",
        "outputId": "08f3878f-7aba-41dc-df16-83526d9d0b79"
      },
      "execution_count": 27,
      "outputs": [
        {
          "output_type": "stream",
          "name": "stdout",
          "text": [
            "[datetime.datetime(2022, 2, 18, 12, 55, 43), datetime.datetime(2022, 2, 18, 14, 31, 9), datetime.datetime(2022, 2, 18, 16, 9, 13), datetime.datetime(2022, 2, 18, 17, 47, 52), datetime.datetime(2022, 2, 18, 19, 25, 8)]\n"
          ]
        }
      ]
    },
    {
      "cell_type": "code",
      "source": [
        ""
      ],
      "metadata": {
        "id": "Bl69o6m_poqL"
      },
      "execution_count": null,
      "outputs": []
    }
  ]
}